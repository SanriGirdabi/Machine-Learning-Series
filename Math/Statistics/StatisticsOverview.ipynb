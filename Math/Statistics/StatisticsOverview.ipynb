{
 "cells": [
  {
   "cell_type": "code",
   "execution_count": 29,
   "id": "e4d416b7",
   "metadata": {},
   "outputs": [
    {
     "data": {
      "image/png": "[encoded data removed]",
      "text/plain": [
       "<Figure size 640x480 with 1 Axes>"
      ]
     },
     "metadata": {},
     "output_type": "display_data"
    }
   ],
   "source": [
    "num_friends = [100, 49, 41, 40, 25, 22, 18, 18, 12, 12, 12, 12, 12, 12, 12, 9, 9, 9, 9, 6, 6, 6, 6, 6, 6, 6, 6, 6, 6, 6, 6,\n",
    "               6, 6, 6, 6, 6, 5, 5, 3, 3, 3, 3, 3, 3, 3, 2, 2, 2, 2, 2, 2, 2, 2, 2, 2, 2, 1]\n",
    "\n",
    "from collections import Counter\n",
    "import matplotlib.pyplot as plt\n",
    "\n",
    "friend_counts = Counter(num_friends)\n",
    "xs = range(101)\n",
    "ys = [friend_counts[x] for x in xs]\n",
    "plt.bar(xs, ys, edgecolor = \"black\", color = \"red\")\n",
    "plt.axis([0, 101, 0, 20])\n",
    "plt.title(\"Histogram of Friend Counts\")\n",
    "plt.xlabel(\"# of friends\")\n",
    "plt.ylabel(\"# of people\")\n",
    "plt.show()"
   ]
  },
  {
   "cell_type": "code",
   "execution_count": 30,
   "id": "27aa5d87",
   "metadata": {},
   "outputs": [
    {
     "data": {
      "text/plain": [
       "57"
      ]
     },
     "execution_count": 30,
     "metadata": {},
     "output_type": "execute_result"
    }
   ],
   "source": [
    "num_points = len(num_friends)\n",
    "num_points"
   ]
  },
  {
   "cell_type": "code",
   "execution_count": 31,
   "id": "25762a38",
   "metadata": {},
   "outputs": [
    {
     "name": "stdout",
     "output_type": "stream",
     "text": [
      "the max value is: 100 the min value is: 1\n"
     ]
    }
   ],
   "source": [
    "largest_value = max(num_friends)\n",
    "smallest_value = min(num_friends)\n",
    "\n",
    "print(\"the max value is:\", largest_value, \"the min value is:\", smallest_value)"
   ]
  },
  {
   "cell_type": "code",
   "execution_count": 32,
   "id": "fa393509",
   "metadata": {},
   "outputs": [
    {
     "data": {
      "text/plain": [
       "2"
      ]
     },
     "execution_count": 32,
     "metadata": {},
     "output_type": "execute_result"
    }
   ],
   "source": [
    "sorted_values = sorted(num_friends)\n",
    "second_smallest_number = sorted_values[1]\n",
    "second_smallest_number"
   ]
  },
  {
   "cell_type": "code",
   "execution_count": 33,
   "id": "1ddca46e",
   "metadata": {},
   "outputs": [
    {
     "data": {
      "text/plain": [
       "10.333333333333334"
      ]
     },
     "execution_count": 33,
     "metadata": {},
     "output_type": "execute_result"
    }
   ],
   "source": [
    "from typing import List\n",
    "\n",
    "def mean(xs: List[float]) -> float:\n",
    "    return sum(xs) / len(xs)\n",
    "\n",
    "mean(num_friends)"
   ]
  },
  {
   "cell_type": "code",
   "execution_count": 34,
   "id": "191b584c",
   "metadata": {},
   "outputs": [],
   "source": [
    "def _median_odd(xs: List[float]) -> float:\n",
    "    \"\"\"If len(xs) is odd, the median is the middle element\"\"\"\n",
    "    return sorted(xs)[len(xs) // 2]\n",
    "\n",
    "def _median_even(xs: List[float]) -> float:\n",
    "    \"\"\"If len(xs) is even, it's the average of the middle two elements\"\"\"\n",
    "    sorted_xs = sorted(xs)\n",
    "    hi_midpoint = len(xs) // 2  # e.g. length 4 => hi_midpoint 2\n",
    "    return (sorted_xs[hi_midpoint - 1] + sorted_xs[hi_midpoint]) / 2\n",
    "\n",
    "def median(v: List[float]) -> float:\n",
    "    \"\"\"Finds the 'middle-most' value of v\"\"\"\n",
    "    return _median_even(v) if len(v) % 2 == 0 else _median_odd(v)\n",
    "\n",
    "assert median([1, 10, 2, 9, 5]) == 5\n",
    "assert median([1, 9, 2, 10]) == (2 + 9) / 2"
   ]
  },
  {
   "cell_type": "code",
   "execution_count": 35,
   "id": "97f5fde5",
   "metadata": {},
   "outputs": [
    {
     "data": {
      "text/plain": [
       "6"
      ]
     },
     "execution_count": 35,
     "metadata": {},
     "output_type": "execute_result"
    }
   ],
   "source": [
    "median(num_friends)"
   ]
  },
  {
   "cell_type": "code",
   "execution_count": 36,
   "id": "511b493c",
   "metadata": {},
   "outputs": [],
   "source": [
    "def quantile(xs: List[float], p: float) -> float:\n",
    "    \"\"\"Returns the p-th percentile value in x\"\"\"\n",
    "    p_index = int(p * len(xs))\n",
    "    return sorted(xs)[p_index]"
   ]
  },
  {
   "cell_type": "code",
   "execution_count": 37,
   "id": "05a89e3a",
   "metadata": {},
   "outputs": [
    {
     "data": {
      "text/plain": [
       "2"
      ]
     },
     "execution_count": 37,
     "metadata": {},
     "output_type": "execute_result"
    }
   ],
   "source": [
    "quantile(num_friends, 0.10)"
   ]
  },
  {
   "cell_type": "code",
   "execution_count": 38,
   "id": "c0473879",
   "metadata": {},
   "outputs": [
    {
     "data": {
      "text/plain": [
       "6"
      ]
     },
     "execution_count": 38,
     "metadata": {},
     "output_type": "execute_result"
    }
   ],
   "source": [
    "quantile(num_friends, 0.50)"
   ]
  },
  {
   "cell_type": "code",
   "execution_count": 39,
   "id": "89c1e64e",
   "metadata": {},
   "outputs": [],
   "source": [
    "# most common values\n",
    "\n",
    "def mode(x: List[float]) -> List[float]:\n",
    "    \"\"\"Returns a list, since there might be more than one mode!\"\"\"\n",
    "    counts = Counter(x)\n",
    "    max_count = max(counts.values())\n",
    "    \n",
    "    return [x_i for x_i, count in counts.items()\n",
    "           if count == max_count]\n"
   ]
  },
  {
   "cell_type": "code",
   "execution_count": 40,
   "id": "6e626c58",
   "metadata": {},
   "outputs": [
    {
     "data": {
      "text/plain": [
       "[6]"
      ]
     },
     "execution_count": 40,
     "metadata": {},
     "output_type": "execute_result"
    }
   ],
   "source": [
    "mode(num_friends)"
   ]
  },
  {
   "cell_type": "code",
   "execution_count": 41,
   "id": "abea98db",
   "metadata": {},
   "outputs": [
    {
     "data": {
      "text/plain": [
       "99"
      ]
     },
     "execution_count": 41,
     "metadata": {},
     "output_type": "execute_result"
    }
   ],
   "source": [
    "def data_range(xs: List[float]) -> float:\n",
    "    return max(xs) - min(xs)\n",
    "\n",
    "data_range(num_friends)"
   ]
  },
  {
   "cell_type": "code",
   "execution_count": 42,
   "id": "6476e62d",
   "metadata": {},
   "outputs": [],
   "source": [
    "import sys\n",
    "sys.path.insert(0, '/Users/eyupsercanuygur/Documents/Software/Repositories/MachineLearning/Machine-Learning-Series/Math/LinearAlgebra')\n",
    "from ipynb.fs.full.LinearAlgebraOverview import sum_of_squares\n",
    "from ipynb.fs.full.LinearAlgebraOverview import dot"
   ]
  },
  {
   "cell_type": "code",
   "execution_count": 43,
   "id": "f2a4cf3a",
   "metadata": {},
   "outputs": [],
   "source": [
    "def de_mean(xs: List[float]) -> List[float]:\n",
    "    \"\"\"Translate xs by subtracting its mean (so the result has 0 mean)\"\"\"\n",
    "    x_bar = mean(xs)\n",
    "    return [x- x_bar for x in xs]\n",
    "\n",
    "def variance(xs: List[float]) -> float:\n",
    "    \"\"\"Almost the average squared deviation from the mean\"\"\"\n",
    "    assert len(xs) >= 2, \"Variance requires at least two elements\"\n",
    "    \n",
    "    n = len(xs)\n",
    "    deviations = de_mean(xs)\n",
    "    return sum_of_squares(deviations) / (n - 1)"
   ]
  },
  {
   "cell_type": "code",
   "execution_count": 44,
   "id": "71741d06",
   "metadata": {},
   "outputs": [
    {
     "data": {
      "text/plain": [
       "240.26190476190473"
      ]
     },
     "execution_count": 44,
     "metadata": {},
     "output_type": "execute_result"
    }
   ],
   "source": [
    "variance(num_friends)"
   ]
  },
  {
   "cell_type": "code",
   "execution_count": 45,
   "id": "c410824d",
   "metadata": {},
   "outputs": [
    {
     "data": {
      "text/plain": [
       "15.500384019820435"
      ]
     },
     "execution_count": 45,
     "metadata": {},
     "output_type": "execute_result"
    }
   ],
   "source": [
    "import math\n",
    "\n",
    "def standard_deviation(xs: List[float]) -> float:\n",
    "    \"\"\"The standard deviation is the square root of the variance\"\"\"\n",
    "    return math.sqrt(variance(xs))\n",
    "\n",
    "standard_deviation(num_friends)"
   ]
  },
  {
   "cell_type": "code",
   "execution_count": 46,
   "id": "9bae9a28",
   "metadata": {},
   "outputs": [
    {
     "data": {
      "text/plain": [
       "9"
      ]
     },
     "execution_count": 46,
     "metadata": {},
     "output_type": "execute_result"
    }
   ],
   "source": [
    "def interquartile_range(xs: List[float]) -> float:\n",
    "    \"\"\"Returns the difference between the 75%-ile and the 25%-ile\"\"\"\n",
    "    return quantile(xs, 0.75) - quantile(xs, 0.25)\n",
    "\n",
    "interquartile_range(num_friends)"
   ]
  },
  {
   "cell_type": "code",
   "execution_count": 47,
   "id": "f14a360f",
   "metadata": {},
   "outputs": [],
   "source": [
    "def covariance(xs: List[float], ys: List[float]) -> float:\n",
    "    assert len(xs) == len(ys), \"xs and ys must have same number of elements\"\n",
    "    return dot(de_mean(xs), de_mean(ys)) / (len(xs) - 1)\n"
   ]
  },
  {
   "cell_type": "code",
   "execution_count": 48,
   "id": "a41b5c40",
   "metadata": {},
   "outputs": [],
   "source": [
    "def correlation(xs: List[float], ys: List[float]) -> float:\n",
    "    \"\"\"Measures how much xs and ys vary in tandem about their means\"\"\"\n",
    "    stdev_x = standard_deviation(xs)\n",
    "    stdev_y = standard_deviation(ys)\n",
    "    if stdev_x > 0 and stdev_y > 0:\n",
    "        return covariance(xs, ys) / stdev_x / stdev_y\n",
    "    else:\n",
    "        return 0\n",
    "    "
   ]
  },
  {
   "cell_type": "code",
   "execution_count": 51,
   "id": "be109de1",
   "metadata": {},
   "outputs": [
    {
     "name": "stdout",
     "output_type": "stream",
     "text": [
      "0.9853767956593861\n"
     ]
    }
   ],
   "source": []
  },
  {
   "cell_type": "code",
   "execution_count": null,
   "id": "412838ef",
   "metadata": {},
   "outputs": [],
   "source": []
  }
 ],
 "metadata": {
  "kernelspec": {
   "display_name": "Python 3",
   "language": "python",
   "name": "python3"
  },
  "language_info": {
   "codemirror_mode": {
    "name": "ipython",
    "version": 3
   },
   "file_extension": ".py",
   "mimetype": "text/x-python",
   "name": "python",
   "nbconvert_exporter": "python",
   "pygments_lexer": "ipython3",
   "version": "3.9.6"
  },
  "vscode": {
   "interpreter": {
    "hash": "31f2aee4e71d21fbe5cf8b01ff0e069b9275f58929596ceb00d14d90e3e16cd6"
   }
  }
 },
 "nbformat": 4,
 "nbformat_minor": 5
}
