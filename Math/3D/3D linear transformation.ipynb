{
 "cells": [
  {
   "cell_type": "code",
   "execution_count": 1,
   "id": "5a6f4e4b",
   "metadata": {},
   "outputs": [
    {
     "name": "stdout",
     "output_type": "stream",
     "text": [
      "Requirement already satisfied: PyGame in c:\\users\\euygur\\anaconda3\\lib\\site-packages (2.1.2)\n",
      "Note: you may need to restart the kernel to use updated packages.\n",
      "Requirement already satisfied: PyOpenGL in c:\\users\\euygur\\anaconda3\\lib\\site-packages (3.1.6)\n",
      "Note: you may need to restart the kernel to use updated packages.\n",
      "pygame 2.1.2 (SDL 2.0.18, Python 3.9.12)\n",
      "Hello from the pygame community. https://www.pygame.org/contribute.html\n"
     ]
    }
   ],
   "source": [
    "%pip install PyGame\n",
    "%pip install PyOpenGL\n",
    "\n",
    "import pygame\n",
    "from pygame.locals import *\n",
    "from OpenGL.GL import *\n",
    "from OpenGL.GLU import *\n",
    "import matplotlib.cm\n",
    "from vectors import *\n",
    "from math import *"
   ]
  },
  {
   "cell_type": "code",
   "execution_count": 2,
   "id": "fca47c37",
   "metadata": {},
   "outputs": [],
   "source": [
    "def normal(face):\n",
    "    return (cross(subtract(face[1], face[0]), subtract(face[2], face[0])))\n",
    "\n",
    "blues = matplotlib.cm.get_cmap('Blues')\n",
    "\n",
    "def shade(face,color_map=blues, light=(1,2,3)):\n",
    "    return color_map(1 - dot(unit(normal(face)), unit(light)))\n"
   ]
  },
  {
   "cell_type": "code",
   "execution_count": 3,
   "id": "cde6f9d3",
   "metadata": {},
   "outputs": [],
   "source": [
    "light = (1,2,3)\n",
    "faces = [\n",
    "    [(1,0,0), (0,1,0), (0,0,1)],\n",
    "    [(1,0,0), (0,0,-1), (0,1,0)],\n",
    "    [(1,0,0), (0,0,1), (0,-1,0)],\n",
    "    [(1,0,0), (0,-1,0), (0,0,-1)],\n",
    "    [(-1,0,0), (0,0,1), (0,1,0)],\n",
    "    [(-1,0,0), (0,1,0), (0,0,-1)],\n",
    "    [(-1,0,0), (0,-1,0), (0,0,1)],\n",
    "    [(-1,0,0), (0,0,-1), (0,-1,0)],\n",
    "]"
   ]
  },
  {
   "cell_type": "code",
   "execution_count": 4,
   "id": "0de308eb",
   "metadata": {},
   "outputs": [],
   "source": [
    "pygame.init()\n",
    "display = (400,400)\n",
    "window = pygame.display.set_mode(display, DOUBLEBUF|OPENGL)"
   ]
  },
  {
   "cell_type": "code",
   "execution_count": 5,
   "id": "d50c1cea",
   "metadata": {},
   "outputs": [],
   "source": [
    "gluPerspective(45, 1, 0.1, 50.0)\n",
    "glTranslatef(0.0, 0.0, -5)\n",
    "glEnable(GL_CULL_FACE)\n",
    "glEnable(GL_DEPTH_TEST)\n",
    "glCullFace(GL_BACK)"
   ]
  },
  {
   "cell_type": "code",
   "execution_count": 6,
   "id": "4d9d3af6",
   "metadata": {},
   "outputs": [
    {
     "ename": "GLError",
     "evalue": "GLError(\n\terr = 1282,\n\tdescription = b'invalid operation',\n\tbaseOperation = glClear,\n\tcArguments = (16640,)\n)",
     "output_type": "error",
     "traceback": [
      "\u001b[1;31m---------------------------------------------------------------------------\u001b[0m",
      "\u001b[1;31mGLError\u001b[0m                                   Traceback (most recent call last)",
      "Input \u001b[1;32mIn [6]\u001b[0m, in \u001b[0;36m<cell line: 5>\u001b[1;34m()\u001b[0m\n\u001b[0;32m      8\u001b[0m         quit()\n\u001b[0;32m      9\u001b[0m milliseconds \u001b[38;5;241m=\u001b[39m clock\u001b[38;5;241m.\u001b[39mtick()\n\u001b[1;32m---> 10\u001b[0m \u001b[43mglClear\u001b[49m\u001b[43m(\u001b[49m\u001b[43mGL_COLOR_BUFFER_BIT\u001b[49m\u001b[38;5;241;43m|\u001b[39;49m\u001b[43mGL_DEPTH_BUFFER_BIT\u001b[49m\u001b[43m)\u001b[49m\n\u001b[0;32m     11\u001b[0m glRotatef(milliseconds \u001b[38;5;241m*\u001b[39m degrees_per_millisecond, \u001b[38;5;241m1\u001b[39m,\u001b[38;5;241m1\u001b[39m,\u001b[38;5;241m1\u001b[39m)\n\u001b[0;32m     12\u001b[0m glBegin(GL_TRIANGLES)\n",
      "File \u001b[1;32m~\\Anaconda3\\lib\\site-packages\\OpenGL\\error.py:230\u001b[0m, in \u001b[0;36m_ErrorChecker.glCheckError\u001b[1;34m(self, result, baseOperation, cArguments, *args)\u001b[0m\n\u001b[0;32m    228\u001b[0m err \u001b[38;5;241m=\u001b[39m \u001b[38;5;28mself\u001b[39m\u001b[38;5;241m.\u001b[39m_currentChecker()\n\u001b[0;32m    229\u001b[0m \u001b[38;5;28;01mif\u001b[39;00m err \u001b[38;5;241m!=\u001b[39m \u001b[38;5;28mself\u001b[39m\u001b[38;5;241m.\u001b[39m_noErrorResult:\n\u001b[1;32m--> 230\u001b[0m     \u001b[38;5;28;01mraise\u001b[39;00m \u001b[38;5;28mself\u001b[39m\u001b[38;5;241m.\u001b[39m_errorClass(\n\u001b[0;32m    231\u001b[0m         err,\n\u001b[0;32m    232\u001b[0m         result,\n\u001b[0;32m    233\u001b[0m         cArguments \u001b[38;5;241m=\u001b[39m cArguments,\n\u001b[0;32m    234\u001b[0m         baseOperation \u001b[38;5;241m=\u001b[39m baseOperation,\n\u001b[0;32m    235\u001b[0m     )\n\u001b[0;32m    236\u001b[0m \u001b[38;5;28;01mreturn\u001b[39;00m result\n",
      "\u001b[1;31mGLError\u001b[0m: GLError(\n\terr = 1282,\n\tdescription = b'invalid operation',\n\tbaseOperation = glClear,\n\tcArguments = (16640,)\n)"
     ]
    }
   ],
   "source": [
    "clock = pygame.time.Clock()\n",
    "degrees_per_second = 360./5\n",
    "degrees_per_millisecond = degrees_per_second / 1000\n",
    "while True:\n",
    "    for event in pygame.event.get():\n",
    "        if event.type == pygame.QUIT:\n",
    "            pygame.quit()\n",
    "            quit()\n",
    "    milliseconds = clock.tick()\n",
    "    glClear(GL_COLOR_BUFFER_BIT|GL_DEPTH_BUFFER_BIT)\n",
    "    glRotatef(milliseconds * degrees_per_millisecond, 1,1,1)\n",
    "    glBegin(GL_TRIANGLES)\n",
    "    for face in faces:\n",
    "        color = shade(face,blues,light)\n",
    "        for vertex in face:\n",
    "            glColor3fv((color[0], color[1], color[2]))\n",
    "            glVertex3fv(vertex)\n",
    "    glEnd()\n",
    "    pygame.display.flip()"
   ]
  },
  {
   "cell_type": "code",
   "execution_count": 1,
   "id": "cd8aa4f0",
   "metadata": {},
   "outputs": [
    {
     "name": "stdout",
     "output_type": "stream",
     "text": [
      "pygame 2.1.2 (SDL 2.0.18, Python 3.9.12)\n",
      "Hello from the pygame community. https://www.pygame.org/contribute.html\n"
     ]
    },
    {
     "ename": "NameError",
     "evalue": "name 'quit' is not defined",
     "output_type": "error",
     "traceback": [
      "\u001b[1;31m---------------------------------------------------------------------------\u001b[0m",
      "\u001b[1;31mNameError\u001b[0m                                 Traceback (most recent call last)",
      "Input \u001b[1;32mIn [1]\u001b[0m, in \u001b[0;36m<cell line: 4>\u001b[1;34m()\u001b[0m\n\u001b[0;32m      1\u001b[0m \u001b[38;5;28;01mfrom\u001b[39;00m \u001b[38;5;21;01mteapot\u001b[39;00m \u001b[38;5;28;01mimport\u001b[39;00m load_triangles\n\u001b[0;32m      2\u001b[0m \u001b[38;5;28;01mfrom\u001b[39;00m \u001b[38;5;21;01mdraw_model\u001b[39;00m \u001b[38;5;28;01mimport\u001b[39;00m draw_model\n\u001b[1;32m----> 4\u001b[0m \u001b[43mdraw_model\u001b[49m\u001b[43m(\u001b[49m\u001b[43mload_triangles\u001b[49m\u001b[43m(\u001b[49m\u001b[43m)\u001b[49m\u001b[43m)\u001b[49m\n",
      "File \u001b[1;32m\\\\wsl$\\Ubuntu\\home\\eypsrcnuygr\\personal\\Machine-Learning-Series\\Math\\3D\\draw_model.py:53\u001b[0m, in \u001b[0;36mdraw_model\u001b[1;34m(faces, color_map, light, glRotatefArgs, get_matrix)\u001b[0m\n\u001b[0;32m     51\u001b[0m     \u001b[38;5;28;01mif\u001b[39;00m event\u001b[38;5;241m.\u001b[39mtype \u001b[38;5;241m==\u001b[39m pygame\u001b[38;5;241m.\u001b[39mQUIT:\n\u001b[0;32m     52\u001b[0m         pygame\u001b[38;5;241m.\u001b[39mquit()\n\u001b[1;32m---> 53\u001b[0m         \u001b[43mquit\u001b[49m()\n\u001b[0;32m     55\u001b[0m glClear(GL_COLOR_BUFFER_BIT\u001b[38;5;241m|\u001b[39mGL_DEPTH_BUFFER_BIT)\n\u001b[0;32m     56\u001b[0m Axes()\n",
      "\u001b[1;31mNameError\u001b[0m: name 'quit' is not defined"
     ]
    }
   ],
   "source": [
    "from teapot import load_triangles\n",
    "from draw_model import draw_model\n",
    "\n",
    "draw_model(load_triangles())"
   ]
  },
  {
   "cell_type": "code",
   "execution_count": null,
   "id": "bafb3f9f",
   "metadata": {},
   "outputs": [],
   "source": []
  }
 ],
 "metadata": {
  "kernelspec": {
   "display_name": "Python 3 (ipykernel)",
   "language": "python",
   "name": "python3"
  },
  "language_info": {
   "codemirror_mode": {
    "name": "ipython",
    "version": 3
   },
   "file_extension": ".py",
   "mimetype": "text/x-python",
   "name": "python",
   "nbconvert_exporter": "python",
   "pygments_lexer": "ipython3",
   "version": "3.9.12"
  }
 },
 "nbformat": 4,
 "nbformat_minor": 5
}
