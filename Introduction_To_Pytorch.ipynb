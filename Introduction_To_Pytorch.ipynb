{
  "nbformat": 4,
  "nbformat_minor": 0,
  "metadata": {
    "colab": {
      "provenance": [],
      "authorship_tag": "ABX9TyPrZwD03odiwcC7mTx/Keja",
      "include_colab_link": true
    },
    "kernelspec": {
      "name": "python3",
      "display_name": "Python 3"
    },
    "language_info": {
      "name": "python"
    }
  },
  "cells": [
    {
      "cell_type": "markdown",
      "metadata": {
        "id": "view-in-github",
        "colab_type": "text"
      },
      "source": [
        "<a href=\"https://colab.research.google.com/github/SanriGirdabi/Machine-Learning-Series/blob/main/Introduction_To_Pytorch.ipynb\" target=\"_parent\"><img src=\"https://colab.research.google.com/assets/colab-badge.svg\" alt=\"Open In Colab\"/></a>"
      ]
    },
    {
      "cell_type": "code",
      "execution_count": 3,
      "metadata": {
        "colab": {
          "base_uri": "https://localhost:8080/"
        },
        "id": "jovf7-WBhRdf",
        "outputId": "c4ae30dc-a427-4ef6-aadf-4e2e35d807c8"
      },
      "outputs": [
        {
          "output_type": "stream",
          "name": "stdout",
          "text": [
            "1.13.1+cu116\n"
          ]
        }
      ],
      "source": [
        "import torch\n",
        "import pandas as pd\n",
        "import numpy as np\n",
        "import matplotlib.pyplot as plt\n",
        "print(torch.__version__)"
      ]
    },
    {
      "cell_type": "markdown",
      "source": [
        "### Introduction to Tensors\n",
        "\n",
        "## Creating tensors"
      ],
      "metadata": {
        "id": "FtqJrh80jO8M"
      }
    },
    {
      "cell_type": "code",
      "source": [
        "scalar = torch.tensor(9)\n",
        "scalar"
      ],
      "metadata": {
        "colab": {
          "base_uri": "https://localhost:8080/"
        },
        "id": "R30_xkapjetL",
        "outputId": "ab5f8576-7d7d-4553-ea8b-af7d842c56af"
      },
      "execution_count": 4,
      "outputs": [
        {
          "output_type": "execute_result",
          "data": {
            "text/plain": [
              "tensor(9)"
            ]
          },
          "metadata": {},
          "execution_count": 4
        }
      ]
    },
    {
      "cell_type": "code",
      "source": [
        "scalar.ndim"
      ],
      "metadata": {
        "colab": {
          "base_uri": "https://localhost:8080/"
        },
        "id": "pNDoUldjjmtC",
        "outputId": "d0ae29cc-2119-4e80-c32b-caa0b3721856"
      },
      "execution_count": 5,
      "outputs": [
        {
          "output_type": "execute_result",
          "data": {
            "text/plain": [
              "0"
            ]
          },
          "metadata": {},
          "execution_count": 5
        }
      ]
    },
    {
      "cell_type": "code",
      "source": [
        "# Get the tensor back as Python int\n",
        "scalar.item()"
      ],
      "metadata": {
        "colab": {
          "base_uri": "https://localhost:8080/"
        },
        "id": "h-7QQ8fhjp11",
        "outputId": "1c8edb21-71c9-4edc-98dc-89549c25f634"
      },
      "execution_count": 6,
      "outputs": [
        {
          "output_type": "execute_result",
          "data": {
            "text/plain": [
              "9"
            ]
          },
          "metadata": {},
          "execution_count": 6
        }
      ]
    },
    {
      "cell_type": "code",
      "source": [
        "vector = torch.tensor([9, 9])\n",
        "vector"
      ],
      "metadata": {
        "colab": {
          "base_uri": "https://localhost:8080/"
        },
        "id": "MZDybekHjsjL",
        "outputId": "1825525f-fe8d-4350-84a5-e7b1cdc59622"
      },
      "execution_count": 7,
      "outputs": [
        {
          "output_type": "execute_result",
          "data": {
            "text/plain": [
              "tensor([9, 9])"
            ]
          },
          "metadata": {},
          "execution_count": 7
        }
      ]
    },
    {
      "cell_type": "code",
      "source": [
        "vector.ndim"
      ],
      "metadata": {
        "colab": {
          "base_uri": "https://localhost:8080/"
        },
        "id": "Al3EdWPNj_vt",
        "outputId": "bc2af827-c81c-4c26-8057-b868c0208bbe"
      },
      "execution_count": 8,
      "outputs": [
        {
          "output_type": "execute_result",
          "data": {
            "text/plain": [
              "1"
            ]
          },
          "metadata": {},
          "execution_count": 8
        }
      ]
    },
    {
      "cell_type": "code",
      "source": [
        "vector.shape"
      ],
      "metadata": {
        "colab": {
          "base_uri": "https://localhost:8080/"
        },
        "id": "uTcr6SzwkDcd",
        "outputId": "0ecb0b40-e79b-496f-ca06-3e79e65e2853"
      },
      "execution_count": 9,
      "outputs": [
        {
          "output_type": "execute_result",
          "data": {
            "text/plain": [
              "torch.Size([2])"
            ]
          },
          "metadata": {},
          "execution_count": 9
        }
      ]
    },
    {
      "cell_type": "code",
      "source": [
        "# MATRIX\n",
        "MATRIX = torch.tensor([[7, 8], [9, 10]])\n",
        "MATRIX"
      ],
      "metadata": {
        "colab": {
          "base_uri": "https://localhost:8080/"
        },
        "id": "IKHCf5zJkHIi",
        "outputId": "e9185130-7dbd-4a66-d525-39a7a698c9ee"
      },
      "execution_count": 10,
      "outputs": [
        {
          "output_type": "execute_result",
          "data": {
            "text/plain": [
              "tensor([[ 7,  8],\n",
              "        [ 9, 10]])"
            ]
          },
          "metadata": {},
          "execution_count": 10
        }
      ]
    },
    {
      "cell_type": "code",
      "source": [
        "MATRIX.ndim"
      ],
      "metadata": {
        "colab": {
          "base_uri": "https://localhost:8080/"
        },
        "id": "X-em9yDnkUIf",
        "outputId": "47db02ac-83bd-4cf3-bbb6-72cc93b5bc60"
      },
      "execution_count": 11,
      "outputs": [
        {
          "output_type": "execute_result",
          "data": {
            "text/plain": [
              "2"
            ]
          },
          "metadata": {},
          "execution_count": 11
        }
      ]
    },
    {
      "cell_type": "code",
      "source": [
        "MATRIX.shape"
      ],
      "metadata": {
        "colab": {
          "base_uri": "https://localhost:8080/"
        },
        "id": "pP-UP_NrkW58",
        "outputId": "f84c1ed5-a0a1-44e1-82e6-ff9a1656c8a7"
      },
      "execution_count": 12,
      "outputs": [
        {
          "output_type": "execute_result",
          "data": {
            "text/plain": [
              "torch.Size([2, 2])"
            ]
          },
          "metadata": {},
          "execution_count": 12
        }
      ]
    },
    {
      "cell_type": "code",
      "source": [
        "# TENSOR\n",
        "TENSOR = torch.tensor([[[1, 2, 3], [3, 6, 9], [2, 4, 6]]])\n",
        "TENSOR"
      ],
      "metadata": {
        "colab": {
          "base_uri": "https://localhost:8080/"
        },
        "id": "6OnEttjEkaib",
        "outputId": "2e10270f-f32e-4ef7-c9a3-6a4051252552"
      },
      "execution_count": 13,
      "outputs": [
        {
          "output_type": "execute_result",
          "data": {
            "text/plain": [
              "tensor([[[1, 2, 3],\n",
              "         [3, 6, 9],\n",
              "         [2, 4, 6]]])"
            ]
          },
          "metadata": {},
          "execution_count": 13
        }
      ]
    },
    {
      "cell_type": "code",
      "source": [
        "TENSOR.ndim"
      ],
      "metadata": {
        "colab": {
          "base_uri": "https://localhost:8080/"
        },
        "id": "JfJCJcdCk7EI",
        "outputId": "38ce956e-2f6b-4a44-f1d8-d46305f3cdc5"
      },
      "execution_count": 14,
      "outputs": [
        {
          "output_type": "execute_result",
          "data": {
            "text/plain": [
              "3"
            ]
          },
          "metadata": {},
          "execution_count": 14
        }
      ]
    },
    {
      "cell_type": "code",
      "source": [
        "TENSOR.shape"
      ],
      "metadata": {
        "colab": {
          "base_uri": "https://localhost:8080/"
        },
        "id": "gZKfoziMlDXw",
        "outputId": "4ce3570b-0577-4209-ae59-1722b4456a6d"
      },
      "execution_count": 15,
      "outputs": [
        {
          "output_type": "execute_result",
          "data": {
            "text/plain": [
              "torch.Size([1, 3, 3])"
            ]
          },
          "metadata": {},
          "execution_count": 15
        }
      ]
    },
    {
      "cell_type": "markdown",
      "source": [
        "### Random Tensors"
      ],
      "metadata": {
        "id": "vt0ypDPilF6x"
      }
    },
    {
      "cell_type": "code",
      "source": [
        "random_tensor = torch.rand(3, 4)\n",
        "random_tensor"
      ],
      "metadata": {
        "colab": {
          "base_uri": "https://localhost:8080/"
        },
        "id": "FbYr_9p5mXY-",
        "outputId": "90d7f55e-1714-4da6-bbc6-514b9cca679c"
      },
      "execution_count": 16,
      "outputs": [
        {
          "output_type": "execute_result",
          "data": {
            "text/plain": [
              "tensor([[0.3073, 0.6134, 0.6345, 0.9941],\n",
              "        [0.0154, 0.9914, 0.0112, 0.0066],\n",
              "        [0.6322, 0.5355, 0.1242, 0.0037]])"
            ]
          },
          "metadata": {},
          "execution_count": 16
        }
      ]
    },
    {
      "cell_type": "code",
      "source": [
        "random_tensor.ndim"
      ],
      "metadata": {
        "colab": {
          "base_uri": "https://localhost:8080/"
        },
        "id": "0oRsDbm7mtYr",
        "outputId": "174c7f83-e01e-4d7f-df36-6612df6d573a"
      },
      "execution_count": 17,
      "outputs": [
        {
          "output_type": "execute_result",
          "data": {
            "text/plain": [
              "2"
            ]
          },
          "metadata": {},
          "execution_count": 17
        }
      ]
    },
    {
      "cell_type": "code",
      "source": [
        "random_tensor.shape"
      ],
      "metadata": {
        "colab": {
          "base_uri": "https://localhost:8080/"
        },
        "id": "VqNP3-4pm1w7",
        "outputId": "e7efa691-2f02-4b0c-b8df-3886e742a2a0"
      },
      "execution_count": 18,
      "outputs": [
        {
          "output_type": "execute_result",
          "data": {
            "text/plain": [
              "torch.Size([3, 4])"
            ]
          },
          "metadata": {},
          "execution_count": 18
        }
      ]
    },
    {
      "cell_type": "code",
      "source": [
        "# Create a random tensor with a similar shape to an image tensor\n",
        "random_image_size_tensor = torch.rand(size=(3, 224, 224)) # color channel, height, width\n",
        "random_image_size_tensor"
      ],
      "metadata": {
        "colab": {
          "base_uri": "https://localhost:8080/"
        },
        "id": "FRdtloIDnBhS",
        "outputId": "5f556cd9-7212-4ecd-b1ab-b5f0cd0a8cd2"
      },
      "execution_count": 19,
      "outputs": [
        {
          "output_type": "execute_result",
          "data": {
            "text/plain": [
              "tensor([[[0.3832, 0.6248, 0.1047,  ..., 0.5629, 0.9588, 0.0786],\n",
              "         [0.9167, 0.0963, 0.9490,  ..., 0.5256, 0.0384, 0.4490],\n",
              "         [0.9892, 0.3896, 0.3299,  ..., 0.1037, 0.1934, 0.5156],\n",
              "         ...,\n",
              "         [0.4380, 0.3007, 0.7709,  ..., 0.0684, 0.1168, 0.7980],\n",
              "         [0.6824, 0.9800, 0.0126,  ..., 0.0991, 0.6730, 0.5460],\n",
              "         [0.8323, 0.5834, 0.8870,  ..., 0.1715, 0.8828, 0.4800]],\n",
              "\n",
              "        [[0.8007, 0.4949, 0.2178,  ..., 0.3378, 0.7233, 0.2986],\n",
              "         [0.0944, 0.6482, 0.6281,  ..., 0.7860, 0.8950, 0.8134],\n",
              "         [0.8693, 0.2090, 0.3276,  ..., 0.3898, 0.1939, 0.7280],\n",
              "         ...,\n",
              "         [0.0596, 0.9663, 0.0753,  ..., 0.9488, 0.4897, 0.3427],\n",
              "         [0.5496, 0.4319, 0.9735,  ..., 0.2706, 0.3121, 0.0542],\n",
              "         [0.5491, 0.7519, 0.1156,  ..., 0.4057, 0.1136, 0.3708]],\n",
              "\n",
              "        [[0.5525, 0.5312, 0.6899,  ..., 0.4192, 0.8345, 0.6997],\n",
              "         [0.7672, 0.3352, 0.9081,  ..., 0.1387, 0.3350, 0.0257],\n",
              "         [0.7729, 0.6589, 0.2324,  ..., 0.5513, 0.2240, 0.2475],\n",
              "         ...,\n",
              "         [0.1515, 0.1609, 0.7298,  ..., 0.3997, 0.8243, 0.5044],\n",
              "         [0.1907, 0.6608, 0.8851,  ..., 0.3530, 0.2739, 0.0615],\n",
              "         [0.9189, 0.4372, 0.4953,  ..., 0.1339, 0.6988, 0.1919]]])"
            ]
          },
          "metadata": {},
          "execution_count": 19
        }
      ]
    },
    {
      "cell_type": "code",
      "source": [
        "random_image_size_tensor.ndim"
      ],
      "metadata": {
        "colab": {
          "base_uri": "https://localhost:8080/"
        },
        "id": "ocX47qtKneCy",
        "outputId": "ccd2b211-6cd3-4ef4-c7e5-cfbed832b25b"
      },
      "execution_count": 20,
      "outputs": [
        {
          "output_type": "execute_result",
          "data": {
            "text/plain": [
              "3"
            ]
          },
          "metadata": {},
          "execution_count": 20
        }
      ]
    },
    {
      "cell_type": "code",
      "source": [
        "random_image_size_tensor.shape"
      ],
      "metadata": {
        "colab": {
          "base_uri": "https://localhost:8080/"
        },
        "id": "bmy8JsfRntHg",
        "outputId": "c2817c76-4be7-4830-bc95-cc9aa4c2e129"
      },
      "execution_count": 21,
      "outputs": [
        {
          "output_type": "execute_result",
          "data": {
            "text/plain": [
              "torch.Size([3, 224, 224])"
            ]
          },
          "metadata": {},
          "execution_count": 21
        }
      ]
    },
    {
      "cell_type": "markdown",
      "source": [
        "## Zeros and ones"
      ],
      "metadata": {
        "id": "FncaQQvYnww5"
      }
    },
    {
      "cell_type": "code",
      "source": [
        "zeros = torch.zeros(size=(3,4))\n",
        "zeros"
      ],
      "metadata": {
        "colab": {
          "base_uri": "https://localhost:8080/"
        },
        "id": "KMcKN74aoSKF",
        "outputId": "59ecfab9-6490-458c-eaf6-912159470d20"
      },
      "execution_count": 22,
      "outputs": [
        {
          "output_type": "execute_result",
          "data": {
            "text/plain": [
              "tensor([[0., 0., 0., 0.],\n",
              "        [0., 0., 0., 0.],\n",
              "        [0., 0., 0., 0.]])"
            ]
          },
          "metadata": {},
          "execution_count": 22
        }
      ]
    },
    {
      "cell_type": "code",
      "source": [
        "ones = torch.ones(size=(3,4))\n",
        "ones"
      ],
      "metadata": {
        "colab": {
          "base_uri": "https://localhost:8080/"
        },
        "id": "fgSr3GrnoVhC",
        "outputId": "5baa9af6-1102-4707-a7f1-540e78fe52ae"
      },
      "execution_count": 23,
      "outputs": [
        {
          "output_type": "execute_result",
          "data": {
            "text/plain": [
              "tensor([[1., 1., 1., 1.],\n",
              "        [1., 1., 1., 1.],\n",
              "        [1., 1., 1., 1.]])"
            ]
          },
          "metadata": {},
          "execution_count": 23
        }
      ]
    },
    {
      "cell_type": "code",
      "source": [
        "ones.dtype"
      ],
      "metadata": {
        "colab": {
          "base_uri": "https://localhost:8080/"
        },
        "id": "CND5vD8eoeLE",
        "outputId": "93b98c01-c197-4592-e1d9-72343877b931"
      },
      "execution_count": 24,
      "outputs": [
        {
          "output_type": "execute_result",
          "data": {
            "text/plain": [
              "torch.float32"
            ]
          },
          "metadata": {},
          "execution_count": 24
        }
      ]
    },
    {
      "cell_type": "markdown",
      "source": [
        "##Creating a range of tensors and tensors-like"
      ],
      "metadata": {
        "id": "U4Y7t6VRokHR"
      }
    },
    {
      "cell_type": "code",
      "source": [
        "zero_to_ten = torch.arange(0, 10)\n",
        "zero_to_ten"
      ],
      "metadata": {
        "colab": {
          "base_uri": "https://localhost:8080/"
        },
        "id": "tW2-ZF9Rot14",
        "outputId": "26697fdf-c516-4dc3-955e-6a36214cd7d5"
      },
      "execution_count": 25,
      "outputs": [
        {
          "output_type": "execute_result",
          "data": {
            "text/plain": [
              "tensor([0, 1, 2, 3, 4, 5, 6, 7, 8, 9])"
            ]
          },
          "metadata": {},
          "execution_count": 25
        }
      ]
    },
    {
      "cell_type": "code",
      "source": [
        "stepped = torch.arange(start=0, end=55, step=9)\n",
        "stepped"
      ],
      "metadata": {
        "colab": {
          "base_uri": "https://localhost:8080/"
        },
        "id": "2Ss7dth1o0qZ",
        "outputId": "3e2bb30c-3f03-4174-c2e8-d48975bd8c4d"
      },
      "execution_count": 26,
      "outputs": [
        {
          "output_type": "execute_result",
          "data": {
            "text/plain": [
              "tensor([ 0,  9, 18, 27, 36, 45, 54])"
            ]
          },
          "metadata": {},
          "execution_count": 26
        }
      ]
    },
    {
      "cell_type": "code",
      "source": [
        "# Creating tensors like\n",
        "ten_zeros = torch.zeros_like(input=zero_to_ten)\n",
        "ten_zeros"
      ],
      "metadata": {
        "colab": {
          "base_uri": "https://localhost:8080/"
        },
        "id": "aeDERPmfpKVM",
        "outputId": "02d7dcba-6be8-4907-9060-8f44eaab0ab9"
      },
      "execution_count": 27,
      "outputs": [
        {
          "output_type": "execute_result",
          "data": {
            "text/plain": [
              "tensor([0, 0, 0, 0, 0, 0, 0, 0, 0, 0])"
            ]
          },
          "metadata": {},
          "execution_count": 27
        }
      ]
    },
    {
      "cell_type": "markdown",
      "source": [
        "## Tensor datatypes"
      ],
      "metadata": {
        "id": "lBuiPFNTpdQg"
      }
    },
    {
      "cell_type": "code",
      "source": [
        "float_32_tensor = torch.tensor([3.0, 6.0, 9.9], dtype=torch.float64, \n",
        "                               device=None, \n",
        "                               requires_grad=False)\n",
        "float_32_tensor"
      ],
      "metadata": {
        "colab": {
          "base_uri": "https://localhost:8080/"
        },
        "id": "oFZ4oMJaqDmH",
        "outputId": "70849dd8-0711-4102-86c5-66e707bdcf63"
      },
      "execution_count": 28,
      "outputs": [
        {
          "output_type": "execute_result",
          "data": {
            "text/plain": [
              "tensor([3.0000, 6.0000, 9.9000], dtype=torch.float64)"
            ]
          },
          "metadata": {},
          "execution_count": 28
        }
      ]
    },
    {
      "cell_type": "code",
      "source": [
        "float_32_tensor.dtype"
      ],
      "metadata": {
        "colab": {
          "base_uri": "https://localhost:8080/"
        },
        "id": "vjcUUjdIqk5i",
        "outputId": "c11c09f7-ff5b-4f76-d503-218a395f2093"
      },
      "execution_count": 29,
      "outputs": [
        {
          "output_type": "execute_result",
          "data": {
            "text/plain": [
              "torch.float64"
            ]
          },
          "metadata": {},
          "execution_count": 29
        }
      ]
    },
    {
      "cell_type": "code",
      "source": [
        "int_16_tensor = torch.tensor([3, 6, 9], dtype=torch.int16, \n",
        "                               device=None, \n",
        "                               requires_grad=False)\n",
        "int_16_tensor"
      ],
      "metadata": {
        "colab": {
          "base_uri": "https://localhost:8080/"
        },
        "id": "PoXkdZ-Yqw56",
        "outputId": "299fa8e8-ce0e-4fb8-b0c3-948b591e6163"
      },
      "execution_count": 30,
      "outputs": [
        {
          "output_type": "execute_result",
          "data": {
            "text/plain": [
              "tensor([3, 6, 9], dtype=torch.int16)"
            ]
          },
          "metadata": {},
          "execution_count": 30
        }
      ]
    },
    {
      "cell_type": "markdown",
      "source": [
        "### Getting the information from tensors\n",
        "1. `tensor.dtype`\n",
        "2. `tensor.shape`\n",
        "3. `tensor.device`"
      ],
      "metadata": {
        "id": "ZCYBKB-vr45O"
      }
    },
    {
      "cell_type": "markdown",
      "source": [
        "### Manipulating Tensors (Matrix Multiplication)"
      ],
      "metadata": {
        "id": "TWKeD3netMsC"
      }
    },
    {
      "cell_type": "code",
      "source": [
        "# Element wise\n",
        "tensor = torch.tensor([1, 2, 4])\n",
        "print(tensor, \"*\", tensor)\n",
        "print(f\"Equals: {tensor * tensor}\")"
      ],
      "metadata": {
        "id": "uhU4jCNEuXpR",
        "colab": {
          "base_uri": "https://localhost:8080/"
        },
        "outputId": "472aa408-11cc-48ce-b14f-2acd85c3ad51"
      },
      "execution_count": 32,
      "outputs": [
        {
          "output_type": "stream",
          "name": "stdout",
          "text": [
            "tensor([1, 2, 4]) * tensor([1, 2, 4])\n",
            "Equals: tensor([ 1,  4, 16])\n"
          ]
        }
      ]
    },
    {
      "cell_type": "code",
      "source": [
        "# Matrix Multiplication\n",
        "matrix_result = torch.matmul(tensor, tensor)\n",
        "matrix_result"
      ],
      "metadata": {
        "colab": {
          "base_uri": "https://localhost:8080/"
        },
        "id": "-Cpi0z2sEO2q",
        "outputId": "c199487a-96a5-4f9e-cc04-e7cd61486951"
      },
      "execution_count": 33,
      "outputs": [
        {
          "output_type": "execute_result",
          "data": {
            "text/plain": [
              "tensor(21)"
            ]
          },
          "metadata": {},
          "execution_count": 33
        }
      ]
    },
    {
      "cell_type": "code",
      "source": [
        "%%time\n",
        "value = 0\n",
        "for i in range(len(tensor)):\n",
        "  value += tensor[i] * tensor[i]\n",
        "print(value)"
      ],
      "metadata": {
        "colab": {
          "base_uri": "https://localhost:8080/"
        },
        "id": "tKUTLQ2jE4ka",
        "outputId": "54a2b354-b929-41b5-f3d3-4c2580d1fafe"
      },
      "execution_count": 35,
      "outputs": [
        {
          "output_type": "stream",
          "name": "stdout",
          "text": [
            "tensor(21)\n",
            "CPU times: user 3.57 ms, sys: 0 ns, total: 3.57 ms\n",
            "Wall time: 8.59 ms\n"
          ]
        }
      ]
    },
    {
      "cell_type": "code",
      "source": [
        "%%time\n",
        "torch.matmul(tensor, tensor)"
      ],
      "metadata": {
        "colab": {
          "base_uri": "https://localhost:8080/"
        },
        "id": "zJyH49YPGRdt",
        "outputId": "bd86f40b-00ea-4514-f6ce-3878c614a496"
      },
      "execution_count": 36,
      "outputs": [
        {
          "output_type": "stream",
          "name": "stdout",
          "text": [
            "CPU times: user 167 µs, sys: 16 µs, total: 183 µs\n",
            "Wall time: 191 µs\n"
          ]
        },
        {
          "output_type": "execute_result",
          "data": {
            "text/plain": [
              "tensor(21)"
            ]
          },
          "metadata": {},
          "execution_count": 36
        }
      ]
    },
    {
      "cell_type": "code",
      "source": [
        "tensor_A = torch.tensor([[1, 2],\n",
        "                         [3, 4],\n",
        "                         [5, 6]])\n",
        "tensor_B = torch.tensor([[2, 5],\n",
        "                         [3, 5],\n",
        "                         [2, 2]])\n",
        "print(tensor_A.shape)\n",
        "print(tensor_B.shape)"
      ],
      "metadata": {
        "colab": {
          "base_uri": "https://localhost:8080/"
        },
        "id": "ePeEMmj9GboC",
        "outputId": "c9f67896-6ebb-4185-ce62-9f6e22b612c2"
      },
      "execution_count": 37,
      "outputs": [
        {
          "output_type": "stream",
          "name": "stdout",
          "text": [
            "torch.Size([3, 2])\n",
            "torch.Size([3, 2])\n"
          ]
        }
      ]
    },
    {
      "cell_type": "code",
      "source": [
        "# To fix the shape and make it productable we need to transpoze one of them\n",
        "print(f\"tensor a shape: {tensor_A.T.shape}\")\n",
        "print(f\"tensor b shape: {tensor_B.shape}\")\n",
        "print(f\"the matrix product of these: {torch.matmul(tensor_A.T, tensor_B)}\")\n",
        "print(f\"the shape of the product: {torch.matmul(tensor_A.T, tensor_B).shape}\")"
      ],
      "metadata": {
        "colab": {
          "base_uri": "https://localhost:8080/"
        },
        "id": "iIlLd-4sIjLA",
        "outputId": "629a645d-d506-451a-cc47-2c5ecb78aad9"
      },
      "execution_count": 41,
      "outputs": [
        {
          "output_type": "stream",
          "name": "stdout",
          "text": [
            "tensor a shape: torch.Size([2, 3])\n",
            "tensor b shape: torch.Size([3, 2])\n",
            "the matrix product of these: tensor([[21, 30],\n",
            "        [28, 42]])\n",
            "the shape of the product: torch.Size([2, 2])\n"
          ]
        }
      ]
    },
    {
      "cell_type": "code",
      "source": [],
      "metadata": {
        "id": "KvUMWRhQIxVL"
      },
      "execution_count": null,
      "outputs": []
    }
  ]
}