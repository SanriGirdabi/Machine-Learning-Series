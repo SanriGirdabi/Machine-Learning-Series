{
  "nbformat": 4,
  "nbformat_minor": 0,
  "metadata": {
    "colab": {
      "provenance": [],
      "toc_visible": true,
      "authorship_tag": "ABX9TyNrmTQZiYDhBAjlLwIkFbNY",
      "include_colab_link": true
    },
    "kernelspec": {
      "name": "python3",
      "display_name": "Python 3"
    },
    "language_info": {
      "name": "python"
    }
  },
  "cells": [
    {
      "cell_type": "markdown",
      "metadata": {
        "id": "view-in-github",
        "colab_type": "text"
      },
      "source": [
        "<a href=\"https://colab.research.google.com/github/SanriGirdabi/Machine-Learning-Series/blob/main/Introduction_To_Pytorch.ipynb\" target=\"_parent\"><img src=\"https://colab.research.google.com/assets/colab-badge.svg\" alt=\"Open In Colab\"/></a>"
      ]
    },
    {
      "cell_type": "code",
      "execution_count": 44,
      "metadata": {
        "colab": {
          "base_uri": "https://localhost:8080/"
        },
        "id": "jovf7-WBhRdf",
        "outputId": "f5551f80-83c0-4d4c-afb8-7bf23af5ac32"
      },
      "outputs": [
        {
          "output_type": "stream",
          "name": "stdout",
          "text": [
            "1.13.1+cu116\n"
          ]
        }
      ],
      "source": [
        "import torch\n",
        "import pandas as pd\n",
        "import numpy as np\n",
        "import matplotlib.pyplot as plt\n",
        "print(torch.__version__)"
      ]
    },
    {
      "cell_type": "markdown",
      "source": [
        "# Introduction to Tensors"
      ],
      "metadata": {
        "id": "FtqJrh80jO8M"
      }
    },
    {
      "cell_type": "markdown",
      "source": [
        "## Creating tensors"
      ],
      "metadata": {
        "id": "959Mx7nS8Yt1"
      }
    },
    {
      "cell_type": "code",
      "source": [
        "scalar = torch.tensor(9)\n",
        "scalar"
      ],
      "metadata": {
        "colab": {
          "base_uri": "https://localhost:8080/"
        },
        "id": "R30_xkapjetL",
        "outputId": "e71bc81e-c32b-42f8-ce4c-82aa3cf67d98"
      },
      "execution_count": 45,
      "outputs": [
        {
          "output_type": "execute_result",
          "data": {
            "text/plain": [
              "tensor(9)"
            ]
          },
          "metadata": {},
          "execution_count": 45
        }
      ]
    },
    {
      "cell_type": "code",
      "source": [
        "scalar.ndim"
      ],
      "metadata": {
        "colab": {
          "base_uri": "https://localhost:8080/"
        },
        "id": "pNDoUldjjmtC",
        "outputId": "3fa070cd-ccd2-467d-d4c1-3ddf33ac06ec"
      },
      "execution_count": 46,
      "outputs": [
        {
          "output_type": "execute_result",
          "data": {
            "text/plain": [
              "0"
            ]
          },
          "metadata": {},
          "execution_count": 46
        }
      ]
    },
    {
      "cell_type": "code",
      "source": [
        "# Get the tensor back as Python int\n",
        "scalar.item()"
      ],
      "metadata": {
        "colab": {
          "base_uri": "https://localhost:8080/"
        },
        "id": "h-7QQ8fhjp11",
        "outputId": "10e060c8-240d-4ec7-c692-3eff759855fe"
      },
      "execution_count": 47,
      "outputs": [
        {
          "output_type": "execute_result",
          "data": {
            "text/plain": [
              "9"
            ]
          },
          "metadata": {},
          "execution_count": 47
        }
      ]
    },
    {
      "cell_type": "code",
      "source": [
        "vector = torch.tensor([9, 9])\n",
        "vector"
      ],
      "metadata": {
        "colab": {
          "base_uri": "https://localhost:8080/"
        },
        "id": "MZDybekHjsjL",
        "outputId": "66ebf08c-23be-44d1-810e-fd662ef1b13c"
      },
      "execution_count": 48,
      "outputs": [
        {
          "output_type": "execute_result",
          "data": {
            "text/plain": [
              "tensor([9, 9])"
            ]
          },
          "metadata": {},
          "execution_count": 48
        }
      ]
    },
    {
      "cell_type": "code",
      "source": [
        "vector.ndim"
      ],
      "metadata": {
        "colab": {
          "base_uri": "https://localhost:8080/"
        },
        "id": "Al3EdWPNj_vt",
        "outputId": "6b6b1fa4-77a0-444e-bb76-2822b2d8e62f"
      },
      "execution_count": 49,
      "outputs": [
        {
          "output_type": "execute_result",
          "data": {
            "text/plain": [
              "1"
            ]
          },
          "metadata": {},
          "execution_count": 49
        }
      ]
    },
    {
      "cell_type": "code",
      "source": [
        "vector.shape"
      ],
      "metadata": {
        "colab": {
          "base_uri": "https://localhost:8080/"
        },
        "id": "uTcr6SzwkDcd",
        "outputId": "c9042dc2-1bd1-483e-d21f-217a6228c442"
      },
      "execution_count": 50,
      "outputs": [
        {
          "output_type": "execute_result",
          "data": {
            "text/plain": [
              "torch.Size([2])"
            ]
          },
          "metadata": {},
          "execution_count": 50
        }
      ]
    },
    {
      "cell_type": "code",
      "source": [
        "# MATRIX\n",
        "MATRIX = torch.tensor([[7, 8], [9, 10]])\n",
        "MATRIX"
      ],
      "metadata": {
        "colab": {
          "base_uri": "https://localhost:8080/"
        },
        "id": "IKHCf5zJkHIi",
        "outputId": "bf009540-8f7f-4104-d9c0-c78a68284e1c"
      },
      "execution_count": 51,
      "outputs": [
        {
          "output_type": "execute_result",
          "data": {
            "text/plain": [
              "tensor([[ 7,  8],\n",
              "        [ 9, 10]])"
            ]
          },
          "metadata": {},
          "execution_count": 51
        }
      ]
    },
    {
      "cell_type": "code",
      "source": [
        "MATRIX.ndim"
      ],
      "metadata": {
        "colab": {
          "base_uri": "https://localhost:8080/"
        },
        "id": "X-em9yDnkUIf",
        "outputId": "f8199de8-5bf8-4349-f92d-2fdf453ca2c6"
      },
      "execution_count": 52,
      "outputs": [
        {
          "output_type": "execute_result",
          "data": {
            "text/plain": [
              "2"
            ]
          },
          "metadata": {},
          "execution_count": 52
        }
      ]
    },
    {
      "cell_type": "code",
      "source": [
        "MATRIX.shape"
      ],
      "metadata": {
        "colab": {
          "base_uri": "https://localhost:8080/"
        },
        "id": "pP-UP_NrkW58",
        "outputId": "200d24f3-e631-4d2b-e6de-db2377c20a1c"
      },
      "execution_count": 53,
      "outputs": [
        {
          "output_type": "execute_result",
          "data": {
            "text/plain": [
              "torch.Size([2, 2])"
            ]
          },
          "metadata": {},
          "execution_count": 53
        }
      ]
    },
    {
      "cell_type": "code",
      "source": [
        "# TENSOR\n",
        "TENSOR = torch.tensor([[[1, 2, 3], [3, 6, 9], [2, 4, 6]]])\n",
        "TENSOR"
      ],
      "metadata": {
        "colab": {
          "base_uri": "https://localhost:8080/"
        },
        "id": "6OnEttjEkaib",
        "outputId": "4897f74a-6720-491e-de05-f8adbd337fb6"
      },
      "execution_count": 54,
      "outputs": [
        {
          "output_type": "execute_result",
          "data": {
            "text/plain": [
              "tensor([[[1, 2, 3],\n",
              "         [3, 6, 9],\n",
              "         [2, 4, 6]]])"
            ]
          },
          "metadata": {},
          "execution_count": 54
        }
      ]
    },
    {
      "cell_type": "code",
      "source": [
        "TENSOR.ndim"
      ],
      "metadata": {
        "colab": {
          "base_uri": "https://localhost:8080/"
        },
        "id": "JfJCJcdCk7EI",
        "outputId": "80e42f84-cc68-4ee2-8c7a-514f71ca994b"
      },
      "execution_count": 55,
      "outputs": [
        {
          "output_type": "execute_result",
          "data": {
            "text/plain": [
              "3"
            ]
          },
          "metadata": {},
          "execution_count": 55
        }
      ]
    },
    {
      "cell_type": "code",
      "source": [
        "TENSOR.shape"
      ],
      "metadata": {
        "colab": {
          "base_uri": "https://localhost:8080/"
        },
        "id": "gZKfoziMlDXw",
        "outputId": "ff041622-c90d-4cf8-c856-ca8d5debea08"
      },
      "execution_count": 56,
      "outputs": [
        {
          "output_type": "execute_result",
          "data": {
            "text/plain": [
              "torch.Size([1, 3, 3])"
            ]
          },
          "metadata": {},
          "execution_count": 56
        }
      ]
    },
    {
      "cell_type": "markdown",
      "source": [
        "## Random Tensors"
      ],
      "metadata": {
        "id": "vt0ypDPilF6x"
      }
    },
    {
      "cell_type": "code",
      "source": [
        "random_tensor = torch.rand(3, 4)\n",
        "random_tensor"
      ],
      "metadata": {
        "colab": {
          "base_uri": "https://localhost:8080/"
        },
        "id": "FbYr_9p5mXY-",
        "outputId": "20260e85-5386-494a-df8a-45b0f083e0a3"
      },
      "execution_count": 57,
      "outputs": [
        {
          "output_type": "execute_result",
          "data": {
            "text/plain": [
              "tensor([[0.1766, 0.1329, 0.5409, 0.5369],\n",
              "        [0.8626, 0.1353, 0.5082, 0.1252],\n",
              "        [0.2958, 0.8158, 0.0075, 0.3361]])"
            ]
          },
          "metadata": {},
          "execution_count": 57
        }
      ]
    },
    {
      "cell_type": "code",
      "source": [
        "random_tensor.ndim"
      ],
      "metadata": {
        "colab": {
          "base_uri": "https://localhost:8080/"
        },
        "id": "0oRsDbm7mtYr",
        "outputId": "2fb3c50f-ac89-48d7-fb78-1d10b6cf8fca"
      },
      "execution_count": 58,
      "outputs": [
        {
          "output_type": "execute_result",
          "data": {
            "text/plain": [
              "2"
            ]
          },
          "metadata": {},
          "execution_count": 58
        }
      ]
    },
    {
      "cell_type": "code",
      "source": [
        "random_tensor.shape"
      ],
      "metadata": {
        "colab": {
          "base_uri": "https://localhost:8080/"
        },
        "id": "VqNP3-4pm1w7",
        "outputId": "3be73320-4ef7-4e2a-ade6-d66cccc00fc5"
      },
      "execution_count": 59,
      "outputs": [
        {
          "output_type": "execute_result",
          "data": {
            "text/plain": [
              "torch.Size([3, 4])"
            ]
          },
          "metadata": {},
          "execution_count": 59
        }
      ]
    },
    {
      "cell_type": "code",
      "source": [
        "# Create a random tensor with a similar shape to an image tensor\n",
        "random_image_size_tensor = torch.rand(size=(3, 224, 224)) # color channel, height, width\n",
        "random_image_size_tensor"
      ],
      "metadata": {
        "colab": {
          "base_uri": "https://localhost:8080/"
        },
        "id": "FRdtloIDnBhS",
        "outputId": "561e10c0-3297-4e58-a8b0-a686a69d85bc"
      },
      "execution_count": 60,
      "outputs": [
        {
          "output_type": "execute_result",
          "data": {
            "text/plain": [
              "tensor([[[0.5175, 0.1772, 0.4430,  ..., 0.1126, 0.3723, 0.6326],\n",
              "         [0.9601, 0.9511, 0.1716,  ..., 0.2704, 0.2264, 0.5693],\n",
              "         [0.4412, 0.1791, 0.2651,  ..., 0.5614, 0.8050, 0.2254],\n",
              "         ...,\n",
              "         [0.4866, 0.9690, 0.5563,  ..., 0.4378, 0.4325, 0.7211],\n",
              "         [0.0854, 0.4082, 0.6218,  ..., 0.4054, 0.4389, 0.2753],\n",
              "         [0.1966, 0.6101, 0.1209,  ..., 0.2772, 0.8199, 0.2551]],\n",
              "\n",
              "        [[0.1988, 0.8382, 0.6213,  ..., 0.8356, 0.0158, 0.5108],\n",
              "         [0.2736, 0.4195, 0.9836,  ..., 0.7227, 0.3892, 0.3605],\n",
              "         [0.5728, 0.4511, 0.0636,  ..., 0.8551, 0.1569, 0.9172],\n",
              "         ...,\n",
              "         [0.1697, 0.5349, 0.8559,  ..., 0.2061, 0.4949, 0.8714],\n",
              "         [0.3717, 0.6490, 0.4421,  ..., 0.9083, 0.9516, 0.3754],\n",
              "         [0.0902, 0.8705, 0.4206,  ..., 0.8940, 0.2323, 0.1298]],\n",
              "\n",
              "        [[0.7975, 0.2838, 0.2022,  ..., 0.4082, 0.8240, 0.4417],\n",
              "         [0.6184, 0.7072, 0.6389,  ..., 0.0391, 0.6716, 0.0787],\n",
              "         [0.0414, 0.6743, 0.7197,  ..., 0.1207, 0.9064, 0.7182],\n",
              "         ...,\n",
              "         [0.4105, 0.6696, 0.6552,  ..., 0.7999, 0.9366, 0.1359],\n",
              "         [0.5525, 0.7682, 0.2430,  ..., 0.9273, 0.9801, 0.7027],\n",
              "         [0.6256, 0.8246, 0.0717,  ..., 0.4455, 0.7187, 0.0621]]])"
            ]
          },
          "metadata": {},
          "execution_count": 60
        }
      ]
    },
    {
      "cell_type": "code",
      "source": [
        "random_image_size_tensor.ndim"
      ],
      "metadata": {
        "colab": {
          "base_uri": "https://localhost:8080/"
        },
        "id": "ocX47qtKneCy",
        "outputId": "8c308f93-821b-4e70-90b3-315ca9c38b4d"
      },
      "execution_count": 61,
      "outputs": [
        {
          "output_type": "execute_result",
          "data": {
            "text/plain": [
              "3"
            ]
          },
          "metadata": {},
          "execution_count": 61
        }
      ]
    },
    {
      "cell_type": "code",
      "source": [
        "random_image_size_tensor.shape"
      ],
      "metadata": {
        "colab": {
          "base_uri": "https://localhost:8080/"
        },
        "id": "bmy8JsfRntHg",
        "outputId": "f9852288-2cfd-4c24-8fad-65f7866907cb"
      },
      "execution_count": 62,
      "outputs": [
        {
          "output_type": "execute_result",
          "data": {
            "text/plain": [
              "torch.Size([3, 224, 224])"
            ]
          },
          "metadata": {},
          "execution_count": 62
        }
      ]
    },
    {
      "cell_type": "markdown",
      "source": [
        "## Zeros and ones"
      ],
      "metadata": {
        "id": "FncaQQvYnww5"
      }
    },
    {
      "cell_type": "code",
      "source": [
        "zeros = torch.zeros(size=(3,4))\n",
        "zeros"
      ],
      "metadata": {
        "colab": {
          "base_uri": "https://localhost:8080/"
        },
        "id": "KMcKN74aoSKF",
        "outputId": "cdcb5b6d-4684-4a5f-e09b-42819c33268b"
      },
      "execution_count": 63,
      "outputs": [
        {
          "output_type": "execute_result",
          "data": {
            "text/plain": [
              "tensor([[0., 0., 0., 0.],\n",
              "        [0., 0., 0., 0.],\n",
              "        [0., 0., 0., 0.]])"
            ]
          },
          "metadata": {},
          "execution_count": 63
        }
      ]
    },
    {
      "cell_type": "code",
      "source": [
        "ones = torch.ones(size=(3,4))\n",
        "ones"
      ],
      "metadata": {
        "colab": {
          "base_uri": "https://localhost:8080/"
        },
        "id": "fgSr3GrnoVhC",
        "outputId": "a607a0cb-38d4-48c3-9379-7d46779f61a8"
      },
      "execution_count": 64,
      "outputs": [
        {
          "output_type": "execute_result",
          "data": {
            "text/plain": [
              "tensor([[1., 1., 1., 1.],\n",
              "        [1., 1., 1., 1.],\n",
              "        [1., 1., 1., 1.]])"
            ]
          },
          "metadata": {},
          "execution_count": 64
        }
      ]
    },
    {
      "cell_type": "code",
      "source": [
        "ones.dtype"
      ],
      "metadata": {
        "colab": {
          "base_uri": "https://localhost:8080/"
        },
        "id": "CND5vD8eoeLE",
        "outputId": "917d9de9-27e6-4a73-aed5-db0ef4a94ec0"
      },
      "execution_count": 65,
      "outputs": [
        {
          "output_type": "execute_result",
          "data": {
            "text/plain": [
              "torch.float32"
            ]
          },
          "metadata": {},
          "execution_count": 65
        }
      ]
    },
    {
      "cell_type": "markdown",
      "source": [
        "##Creating a range of tensors and tensors-like"
      ],
      "metadata": {
        "id": "U4Y7t6VRokHR"
      }
    },
    {
      "cell_type": "code",
      "source": [
        "zero_to_ten = torch.arange(0, 10)\n",
        "zero_to_ten"
      ],
      "metadata": {
        "colab": {
          "base_uri": "https://localhost:8080/"
        },
        "id": "tW2-ZF9Rot14",
        "outputId": "e882b2fa-9c07-4fb0-a141-58cf7fa00b47"
      },
      "execution_count": 66,
      "outputs": [
        {
          "output_type": "execute_result",
          "data": {
            "text/plain": [
              "tensor([0, 1, 2, 3, 4, 5, 6, 7, 8, 9])"
            ]
          },
          "metadata": {},
          "execution_count": 66
        }
      ]
    },
    {
      "cell_type": "code",
      "source": [
        "stepped = torch.arange(start=0, end=55, step=9)\n",
        "stepped"
      ],
      "metadata": {
        "colab": {
          "base_uri": "https://localhost:8080/"
        },
        "id": "2Ss7dth1o0qZ",
        "outputId": "d8decd2a-3ab1-431f-e085-bff505fdd342"
      },
      "execution_count": 67,
      "outputs": [
        {
          "output_type": "execute_result",
          "data": {
            "text/plain": [
              "tensor([ 0,  9, 18, 27, 36, 45, 54])"
            ]
          },
          "metadata": {},
          "execution_count": 67
        }
      ]
    },
    {
      "cell_type": "code",
      "source": [
        "# Creating tensors like\n",
        "ten_zeros = torch.zeros_like(input=zero_to_ten)\n",
        "ten_zeros"
      ],
      "metadata": {
        "colab": {
          "base_uri": "https://localhost:8080/"
        },
        "id": "aeDERPmfpKVM",
        "outputId": "4340f3de-6cd4-4327-e611-d2ca62c93594"
      },
      "execution_count": 68,
      "outputs": [
        {
          "output_type": "execute_result",
          "data": {
            "text/plain": [
              "tensor([0, 0, 0, 0, 0, 0, 0, 0, 0, 0])"
            ]
          },
          "metadata": {},
          "execution_count": 68
        }
      ]
    },
    {
      "cell_type": "markdown",
      "source": [
        "## Tensor datatypes"
      ],
      "metadata": {
        "id": "lBuiPFNTpdQg"
      }
    },
    {
      "cell_type": "code",
      "source": [
        "float_32_tensor = torch.tensor([3.0, 6.0, 9.9], dtype=torch.float64, \n",
        "                               device=None, \n",
        "                               requires_grad=False)\n",
        "float_32_tensor"
      ],
      "metadata": {
        "colab": {
          "base_uri": "https://localhost:8080/"
        },
        "id": "oFZ4oMJaqDmH",
        "outputId": "b0752ca0-38bb-46e4-8a25-6f499c685cfc"
      },
      "execution_count": 69,
      "outputs": [
        {
          "output_type": "execute_result",
          "data": {
            "text/plain": [
              "tensor([3.0000, 6.0000, 9.9000], dtype=torch.float64)"
            ]
          },
          "metadata": {},
          "execution_count": 69
        }
      ]
    },
    {
      "cell_type": "code",
      "source": [
        "float_32_tensor.dtype"
      ],
      "metadata": {
        "colab": {
          "base_uri": "https://localhost:8080/"
        },
        "id": "vjcUUjdIqk5i",
        "outputId": "86c6cec0-b636-4a6d-d6b5-e71d1addfdbc"
      },
      "execution_count": 70,
      "outputs": [
        {
          "output_type": "execute_result",
          "data": {
            "text/plain": [
              "torch.float64"
            ]
          },
          "metadata": {},
          "execution_count": 70
        }
      ]
    },
    {
      "cell_type": "code",
      "source": [
        "int_16_tensor = torch.tensor([3, 6, 9], dtype=torch.int16, \n",
        "                               device=None, \n",
        "                               requires_grad=False)\n",
        "int_16_tensor"
      ],
      "metadata": {
        "colab": {
          "base_uri": "https://localhost:8080/"
        },
        "id": "PoXkdZ-Yqw56",
        "outputId": "ff9a4aa6-5cfe-4316-ed76-70aad9c6b46e"
      },
      "execution_count": 71,
      "outputs": [
        {
          "output_type": "execute_result",
          "data": {
            "text/plain": [
              "tensor([3, 6, 9], dtype=torch.int16)"
            ]
          },
          "metadata": {},
          "execution_count": 71
        }
      ]
    },
    {
      "cell_type": "markdown",
      "source": [
        "### Getting the information from tensors\n",
        "1. `tensor.dtype`\n",
        "2. `tensor.shape`\n",
        "3. `tensor.device`"
      ],
      "metadata": {
        "id": "ZCYBKB-vr45O"
      }
    },
    {
      "cell_type": "markdown",
      "source": [
        "## Manipulating Tensors (Matrix Multiplication)"
      ],
      "metadata": {
        "id": "TWKeD3netMsC"
      }
    },
    {
      "cell_type": "code",
      "source": [
        "# Element wise\n",
        "tensor = torch.tensor([1, 2, 4])\n",
        "print(tensor, \"*\", tensor)\n",
        "print(f\"Equals: {tensor * tensor}\")"
      ],
      "metadata": {
        "id": "uhU4jCNEuXpR",
        "colab": {
          "base_uri": "https://localhost:8080/"
        },
        "outputId": "20237bbb-92d2-4fa8-f002-a4e422e9259a"
      },
      "execution_count": 72,
      "outputs": [
        {
          "output_type": "stream",
          "name": "stdout",
          "text": [
            "tensor([1, 2, 4]) * tensor([1, 2, 4])\n",
            "Equals: tensor([ 1,  4, 16])\n"
          ]
        }
      ]
    },
    {
      "cell_type": "code",
      "source": [
        "# Matrix Multiplication\n",
        "matrix_result = torch.matmul(tensor, tensor)\n",
        "matrix_result"
      ],
      "metadata": {
        "colab": {
          "base_uri": "https://localhost:8080/"
        },
        "id": "-Cpi0z2sEO2q",
        "outputId": "6b103244-292e-4038-9669-b69e994601ac"
      },
      "execution_count": 73,
      "outputs": [
        {
          "output_type": "execute_result",
          "data": {
            "text/plain": [
              "tensor(21)"
            ]
          },
          "metadata": {},
          "execution_count": 73
        }
      ]
    },
    {
      "cell_type": "code",
      "source": [
        "%%time\n",
        "value = 0\n",
        "for i in range(len(tensor)):\n",
        "  value += tensor[i] * tensor[i]\n",
        "print(value)"
      ],
      "metadata": {
        "colab": {
          "base_uri": "https://localhost:8080/"
        },
        "id": "tKUTLQ2jE4ka",
        "outputId": "7829de2e-6613-4156-880d-1a5c723ea483"
      },
      "execution_count": 74,
      "outputs": [
        {
          "output_type": "stream",
          "name": "stdout",
          "text": [
            "tensor(21)\n",
            "CPU times: user 412 µs, sys: 0 ns, total: 412 µs\n",
            "Wall time: 417 µs\n"
          ]
        }
      ]
    },
    {
      "cell_type": "code",
      "source": [
        "%%time\n",
        "torch.matmul(tensor, tensor)"
      ],
      "metadata": {
        "colab": {
          "base_uri": "https://localhost:8080/"
        },
        "id": "zJyH49YPGRdt",
        "outputId": "0d6cb7a7-14e9-4a48-b391-6fb23a148b29"
      },
      "execution_count": 75,
      "outputs": [
        {
          "output_type": "stream",
          "name": "stdout",
          "text": [
            "CPU times: user 74 µs, sys: 8 µs, total: 82 µs\n",
            "Wall time: 86.1 µs\n"
          ]
        },
        {
          "output_type": "execute_result",
          "data": {
            "text/plain": [
              "tensor(21)"
            ]
          },
          "metadata": {},
          "execution_count": 75
        }
      ]
    },
    {
      "cell_type": "code",
      "source": [
        "tensor_A = torch.tensor([[1, 2],\n",
        "                         [3, 4],\n",
        "                         [5, 6]])\n",
        "tensor_B = torch.tensor([[2, 5],\n",
        "                         [3, 5],\n",
        "                         [2, 2]])\n",
        "print(tensor_A.shape)\n",
        "print(tensor_B.shape)"
      ],
      "metadata": {
        "colab": {
          "base_uri": "https://localhost:8080/"
        },
        "id": "ePeEMmj9GboC",
        "outputId": "703a419a-7e35-44bf-e2cc-c818f8f1b50d"
      },
      "execution_count": 76,
      "outputs": [
        {
          "output_type": "stream",
          "name": "stdout",
          "text": [
            "torch.Size([3, 2])\n",
            "torch.Size([3, 2])\n"
          ]
        }
      ]
    },
    {
      "cell_type": "code",
      "source": [
        "# To fix the shape and make it productable we need to transpoze one of them\n",
        "print(f\"tensor a shape: {tensor_A.T.shape}\")\n",
        "print(f\"tensor b shape: {tensor_B.shape}\")\n",
        "print(f\"the matrix product of these: {torch.matmul(tensor_A.T, tensor_B)}\")\n",
        "print(f\"the shape of the product: {torch.matmul(tensor_A.T, tensor_B).shape}\")"
      ],
      "metadata": {
        "colab": {
          "base_uri": "https://localhost:8080/"
        },
        "id": "iIlLd-4sIjLA",
        "outputId": "5bea760c-fc84-47ac-a9c7-5bd0cdd8903a"
      },
      "execution_count": 77,
      "outputs": [
        {
          "output_type": "stream",
          "name": "stdout",
          "text": [
            "tensor a shape: torch.Size([2, 3])\n",
            "tensor b shape: torch.Size([3, 2])\n",
            "the matrix product of these: tensor([[21, 30],\n",
            "        [28, 42]])\n",
            "the shape of the product: torch.Size([2, 2])\n"
          ]
        }
      ]
    },
    {
      "cell_type": "markdown",
      "source": [
        "## Finding the min, max, mean, sum etc"
      ],
      "metadata": {
        "id": "KvUMWRhQIxVL"
      }
    },
    {
      "cell_type": "code",
      "source": [
        "x = torch.arange(1, 100, 10)\n",
        "x"
      ],
      "metadata": {
        "colab": {
          "base_uri": "https://localhost:8080/"
        },
        "id": "2PkojRYA4iFr",
        "outputId": "ad5ebecc-5292-4799-99de-c5d3af9af363"
      },
      "execution_count": 78,
      "outputs": [
        {
          "output_type": "execute_result",
          "data": {
            "text/plain": [
              "tensor([ 1, 11, 21, 31, 41, 51, 61, 71, 81, 91])"
            ]
          },
          "metadata": {},
          "execution_count": 78
        }
      ]
    },
    {
      "cell_type": "code",
      "source": [
        "torch.min(x), x.min()"
      ],
      "metadata": {
        "colab": {
          "base_uri": "https://localhost:8080/"
        },
        "id": "ouuR7-6A5u0O",
        "outputId": "4d373da8-6d58-4691-d59b-be33587f5616"
      },
      "execution_count": 79,
      "outputs": [
        {
          "output_type": "execute_result",
          "data": {
            "text/plain": [
              "(tensor(1), tensor(1))"
            ]
          },
          "metadata": {},
          "execution_count": 79
        }
      ]
    },
    {
      "cell_type": "code",
      "source": [
        "torch.max(x), x.max()"
      ],
      "metadata": {
        "colab": {
          "base_uri": "https://localhost:8080/"
        },
        "id": "_7OtK4Kw5yVh",
        "outputId": "35fbd1e4-34ab-4238-dc30-36b13dac5a5f"
      },
      "execution_count": 80,
      "outputs": [
        {
          "output_type": "execute_result",
          "data": {
            "text/plain": [
              "(tensor(91), tensor(91))"
            ]
          },
          "metadata": {},
          "execution_count": 80
        }
      ]
    },
    {
      "cell_type": "code",
      "source": [
        "torch.mean(x.type(torch.float32)), x.type(torch.float32).mean()"
      ],
      "metadata": {
        "colab": {
          "base_uri": "https://localhost:8080/"
        },
        "id": "z66NHJpW579z",
        "outputId": "d8e0b300-6507-401a-dff4-cbb961985ae7"
      },
      "execution_count": 81,
      "outputs": [
        {
          "output_type": "execute_result",
          "data": {
            "text/plain": [
              "(tensor(46.), tensor(46.))"
            ]
          },
          "metadata": {},
          "execution_count": 81
        }
      ]
    },
    {
      "cell_type": "code",
      "source": [
        "torch.sum(x), x.sum()"
      ],
      "metadata": {
        "colab": {
          "base_uri": "https://localhost:8080/"
        },
        "id": "JUCDamDU6DzH",
        "outputId": "4b1318fc-d503-421e-8b88-4e1ce5f93d3d"
      },
      "execution_count": 82,
      "outputs": [
        {
          "output_type": "execute_result",
          "data": {
            "text/plain": [
              "(tensor(460), tensor(460))"
            ]
          },
          "metadata": {},
          "execution_count": 82
        }
      ]
    },
    {
      "cell_type": "code",
      "source": [
        "torch.sum(x[3 :])"
      ],
      "metadata": {
        "colab": {
          "base_uri": "https://localhost:8080/"
        },
        "id": "_K2gNyNK6wSO",
        "outputId": "dd51c48c-8b99-463e-e590-a6c445a92275"
      },
      "execution_count": 83,
      "outputs": [
        {
          "output_type": "execute_result",
          "data": {
            "text/plain": [
              "tensor(427)"
            ]
          },
          "metadata": {},
          "execution_count": 83
        }
      ]
    },
    {
      "cell_type": "code",
      "source": [
        "# Fİnd the position in the tensor that has the minimum value with argmin() --> return the position\n",
        "x.argmin()"
      ],
      "metadata": {
        "colab": {
          "base_uri": "https://localhost:8080/"
        },
        "id": "js6j7K1T7BUp",
        "outputId": "bb787971-94a3-4541-bfb4-4f8fdf0f341b"
      },
      "execution_count": 85,
      "outputs": [
        {
          "output_type": "execute_result",
          "data": {
            "text/plain": [
              "tensor(0)"
            ]
          },
          "metadata": {},
          "execution_count": 85
        }
      ]
    },
    {
      "cell_type": "code",
      "source": [
        "x.argmax()"
      ],
      "metadata": {
        "colab": {
          "base_uri": "https://localhost:8080/"
        },
        "id": "i9h3UlXq7d7w",
        "outputId": "67e81eb6-8ac5-43f8-dd29-d2d7eeede384"
      },
      "execution_count": 86,
      "outputs": [
        {
          "output_type": "execute_result",
          "data": {
            "text/plain": [
              "tensor(9)"
            ]
          },
          "metadata": {},
          "execution_count": 86
        }
      ]
    },
    {
      "cell_type": "markdown",
      "source": [
        "## Reshaping, Stacking, Squeezing, Unsqueezing Tensors"
      ],
      "metadata": {
        "id": "DfAb1dEa7gBN"
      }
    },
    {
      "cell_type": "code",
      "source": [
        "X = torch.arange(1., 13.)\n",
        "X"
      ],
      "metadata": {
        "colab": {
          "base_uri": "https://localhost:8080/"
        },
        "id": "mbRuQ-lt82nO",
        "outputId": "97546e94-7744-401a-af1f-6e28745d4059"
      },
      "execution_count": 92,
      "outputs": [
        {
          "output_type": "execute_result",
          "data": {
            "text/plain": [
              "tensor([ 1.,  2.,  3.,  4.,  5.,  6.,  7.,  8.,  9., 10., 11., 12.])"
            ]
          },
          "metadata": {},
          "execution_count": 92
        }
      ]
    },
    {
      "cell_type": "code",
      "source": [
        "# Add an extra dimension\n",
        "X_reshaped = X.reshape(4, 3)\n",
        "X_reshaped"
      ],
      "metadata": {
        "colab": {
          "base_uri": "https://localhost:8080/"
        },
        "id": "3FPLoPFz9AYM",
        "outputId": "3578355b-5fe9-4918-ae72-19557f9a05b1"
      },
      "execution_count": 93,
      "outputs": [
        {
          "output_type": "execute_result",
          "data": {
            "text/plain": [
              "tensor([[ 1.,  2.,  3.],\n",
              "        [ 4.,  5.,  6.],\n",
              "        [ 7.,  8.,  9.],\n",
              "        [10., 11., 12.]])"
            ]
          },
          "metadata": {},
          "execution_count": 93
        }
      ]
    },
    {
      "cell_type": "code",
      "source": [
        "# Change the view\n",
        "z = X.view(1, 12)\n",
        "z"
      ],
      "metadata": {
        "colab": {
          "base_uri": "https://localhost:8080/"
        },
        "id": "n3iJ0ZKc9LGY",
        "outputId": "988d8f7f-04bf-40d7-fece-af932bac8b8e"
      },
      "execution_count": 97,
      "outputs": [
        {
          "output_type": "execute_result",
          "data": {
            "text/plain": [
              "tensor([[ 1.,  2.,  3.,  4.,  5.,  6.,  7.,  8.,  9., 10., 11., 12.]])"
            ]
          },
          "metadata": {},
          "execution_count": 97
        }
      ]
    },
    {
      "cell_type": "code",
      "source": [
        "X.clone().detach().reshape(1, 12)"
      ],
      "metadata": {
        "colab": {
          "base_uri": "https://localhost:8080/"
        },
        "id": "CILjEruC90Nn",
        "outputId": "b5f26aab-69ea-48d5-fbb2-ec0412041795"
      },
      "execution_count": 104,
      "outputs": [
        {
          "output_type": "execute_result",
          "data": {
            "text/plain": [
              "tensor([[ 1.,  2.,  3.,  4.,  5.,  6.,  7.,  8.,  9., 10., 11., 12.]])"
            ]
          },
          "metadata": {},
          "execution_count": 104
        }
      ]
    },
    {
      "cell_type": "code",
      "source": [
        "# When you change a view, it changes the source as well!\n",
        "z[:, 0] = 55\n",
        "z, X"
      ],
      "metadata": {
        "colab": {
          "base_uri": "https://localhost:8080/"
        },
        "id": "8CWK-DJi-KiH",
        "outputId": "393c11d0-3d67-4bf3-eb4b-ad02b5207778"
      },
      "execution_count": 106,
      "outputs": [
        {
          "output_type": "execute_result",
          "data": {
            "text/plain": [
              "(tensor([[55.,  2.,  3.,  4.,  5.,  6.,  7.,  8.,  9., 10., 11., 12.]]),\n",
              " tensor([55.,  2.,  3.,  4.,  5.,  6.,  7.,  8.,  9., 10., 11., 12.]))"
            ]
          },
          "metadata": {},
          "execution_count": 106
        }
      ]
    },
    {
      "cell_type": "code",
      "source": [
        "# Stack tensors on top of each other\n",
        "x_stacked = torch.stack([X, X, X], dim=0)\n",
        "x_stacked"
      ],
      "metadata": {
        "colab": {
          "base_uri": "https://localhost:8080/"
        },
        "id": "yOK06R87-qM1",
        "outputId": "1ab809c1-63c7-4030-8e4b-195c3e45e64e"
      },
      "execution_count": 113,
      "outputs": [
        {
          "output_type": "execute_result",
          "data": {
            "text/plain": [
              "tensor([[55.,  2.,  3.,  4.,  5.,  6.,  7.,  8.,  9., 10., 11., 12.],\n",
              "        [55.,  2.,  3.,  4.,  5.,  6.,  7.,  8.,  9., 10., 11., 12.],\n",
              "        [55.,  2.,  3.,  4.,  5.,  6.,  7.,  8.,  9., 10., 11., 12.]])"
            ]
          },
          "metadata": {},
          "execution_count": 113
        }
      ]
    },
    {
      "cell_type": "code",
      "source": [
        "x_stacked2 = torch.stack([X, X, X], dim=1)\n",
        "x_stacked2"
      ],
      "metadata": {
        "colab": {
          "base_uri": "https://localhost:8080/"
        },
        "id": "CUBacABj--ZM",
        "outputId": "8337286c-5bec-42d0-a151-7d51cc088b8c"
      },
      "execution_count": 114,
      "outputs": [
        {
          "output_type": "execute_result",
          "data": {
            "text/plain": [
              "tensor([[55., 55., 55.],\n",
              "        [ 2.,  2.,  2.],\n",
              "        [ 3.,  3.,  3.],\n",
              "        [ 4.,  4.,  4.],\n",
              "        [ 5.,  5.,  5.],\n",
              "        [ 6.,  6.,  6.],\n",
              "        [ 7.,  7.,  7.],\n",
              "        [ 8.,  8.,  8.],\n",
              "        [ 9.,  9.,  9.],\n",
              "        [10., 10., 10.],\n",
              "        [11., 11., 11.],\n",
              "        [12., 12., 12.]])"
            ]
          },
          "metadata": {},
          "execution_count": 114
        }
      ]
    },
    {
      "cell_type": "code",
      "source": [
        "X.reshape(1, 1, 12)"
      ],
      "metadata": {
        "colab": {
          "base_uri": "https://localhost:8080/"
        },
        "id": "z6U-q3KT_ZiE",
        "outputId": "1900aee9-dfba-4352-f05c-2cc2bd4292d3"
      },
      "execution_count": 121,
      "outputs": [
        {
          "output_type": "execute_result",
          "data": {
            "text/plain": [
              "tensor([[[55.,  2.,  3.,  4.,  5.,  6.,  7.,  8.,  9., 10., 11., 12.]]])"
            ]
          },
          "metadata": {},
          "execution_count": 121
        }
      ]
    },
    {
      "cell_type": "code",
      "source": [
        "X.reshape(1, 1, 12).squeeze()"
      ],
      "metadata": {
        "colab": {
          "base_uri": "https://localhost:8080/"
        },
        "id": "rOaeG3zh_7fb",
        "outputId": "81887725-337f-4825-8fd6-c7e38257d9f1"
      },
      "execution_count": 122,
      "outputs": [
        {
          "output_type": "execute_result",
          "data": {
            "text/plain": [
              "tensor([55.,  2.,  3.,  4.,  5.,  6.,  7.,  8.,  9., 10., 11., 12.])"
            ]
          },
          "metadata": {},
          "execution_count": 122
        }
      ]
    },
    {
      "cell_type": "code",
      "source": [
        "X.unsqueeze(0)"
      ],
      "metadata": {
        "colab": {
          "base_uri": "https://localhost:8080/"
        },
        "id": "DP4APM9cAmTg",
        "outputId": "c4aa6dbb-7532-4cf5-bc7d-75d56d37b84b"
      },
      "execution_count": 130,
      "outputs": [
        {
          "output_type": "execute_result",
          "data": {
            "text/plain": [
              "tensor([[55.,  2.,  3.,  4.,  5.,  6.,  7.,  8.,  9., 10., 11., 12.]])"
            ]
          },
          "metadata": {},
          "execution_count": 130
        }
      ]
    },
    {
      "cell_type": "code",
      "source": [
        "X.unsqueeze(1)"
      ],
      "metadata": {
        "colab": {
          "base_uri": "https://localhost:8080/"
        },
        "id": "TGI-JcaOAxZW",
        "outputId": "f7b6324c-d8de-40f4-a857-710249e645cc"
      },
      "execution_count": 131,
      "outputs": [
        {
          "output_type": "execute_result",
          "data": {
            "text/plain": [
              "tensor([[55.],\n",
              "        [ 2.],\n",
              "        [ 3.],\n",
              "        [ 4.],\n",
              "        [ 5.],\n",
              "        [ 6.],\n",
              "        [ 7.],\n",
              "        [ 8.],\n",
              "        [ 9.],\n",
              "        [10.],\n",
              "        [11.],\n",
              "        [12.]])"
            ]
          },
          "metadata": {},
          "execution_count": 131
        }
      ]
    },
    {
      "cell_type": "code",
      "source": [
        "#permute rearranges the dimensions of a specified order\n",
        "x_stacked.shape\n",
        "x_reshaped_again = x_stacked.reshape(2, 9, 2)\n",
        "x_reshaped_again\n"
      ],
      "metadata": {
        "colab": {
          "base_uri": "https://localhost:8080/"
        },
        "id": "5O156xFLBSN9",
        "outputId": "a9c4e076-e27b-4650-b94a-5cc2a385a0bb"
      },
      "execution_count": 144,
      "outputs": [
        {
          "output_type": "execute_result",
          "data": {
            "text/plain": [
              "tensor([[[55.,  2.],\n",
              "         [ 3.,  4.],\n",
              "         [ 5.,  6.],\n",
              "         [ 7.,  8.],\n",
              "         [ 9., 10.],\n",
              "         [11., 12.],\n",
              "         [55.,  2.],\n",
              "         [ 3.,  4.],\n",
              "         [ 5.,  6.]],\n",
              "\n",
              "        [[ 7.,  8.],\n",
              "         [ 9., 10.],\n",
              "         [11., 12.],\n",
              "         [55.,  2.],\n",
              "         [ 3.,  4.],\n",
              "         [ 5.,  6.],\n",
              "         [ 7.,  8.],\n",
              "         [ 9., 10.],\n",
              "         [11., 12.]]])"
            ]
          },
          "metadata": {},
          "execution_count": 144
        }
      ]
    },
    {
      "cell_type": "code",
      "source": [
        "torch.permute(x_reshaped_again, (0, 2, 1))"
      ],
      "metadata": {
        "colab": {
          "base_uri": "https://localhost:8080/"
        },
        "id": "XgEn9Xd0BmSk",
        "outputId": "210f1a49-cfac-423f-95d0-18d8bf41abb4"
      },
      "execution_count": 153,
      "outputs": [
        {
          "output_type": "execute_result",
          "data": {
            "text/plain": [
              "tensor([[[55.,  3.,  5.,  7.,  9., 11., 55.,  3.,  5.],\n",
              "         [ 2.,  4.,  6.,  8., 10., 12.,  2.,  4.,  6.]],\n",
              "\n",
              "        [[ 7.,  9., 11., 55.,  3.,  5.,  7.,  9., 11.],\n",
              "         [ 8., 10., 12.,  2.,  4.,  6.,  8., 10., 12.]]])"
            ]
          },
          "metadata": {},
          "execution_count": 153
        }
      ]
    },
    {
      "cell_type": "code",
      "source": [
        "torch.permute(x_reshaped_again, (1, 2, 0))"
      ],
      "metadata": {
        "colab": {
          "base_uri": "https://localhost:8080/"
        },
        "id": "oZfzUtfdCQ5P",
        "outputId": "3a41b646-49a1-4431-cfb9-e87ca35c47a2"
      },
      "execution_count": 158,
      "outputs": [
        {
          "output_type": "execute_result",
          "data": {
            "text/plain": [
              "tensor([[[55.,  7.],\n",
              "         [ 2.,  8.]],\n",
              "\n",
              "        [[ 3.,  9.],\n",
              "         [ 4., 10.]],\n",
              "\n",
              "        [[ 5., 11.],\n",
              "         [ 6., 12.]],\n",
              "\n",
              "        [[ 7., 55.],\n",
              "         [ 8.,  2.]],\n",
              "\n",
              "        [[ 9.,  3.],\n",
              "         [10.,  4.]],\n",
              "\n",
              "        [[11.,  5.],\n",
              "         [12.,  6.]],\n",
              "\n",
              "        [[55.,  7.],\n",
              "         [ 2.,  8.]],\n",
              "\n",
              "        [[ 3.,  9.],\n",
              "         [ 4., 10.]],\n",
              "\n",
              "        [[ 5., 11.],\n",
              "         [ 6., 12.]]])"
            ]
          },
          "metadata": {},
          "execution_count": 158
        }
      ]
    },
    {
      "cell_type": "code",
      "source": [],
      "metadata": {
        "id": "uWNjB-nLDfLM"
      },
      "execution_count": null,
      "outputs": []
    }
  ]
}